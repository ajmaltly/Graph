{
  "nbformat": 4,
  "nbformat_minor": 0,
  "metadata": {
    "colab": {
      "name": "Graph.ipynb",
      "provenance": []
    },
    "kernelspec": {
      "name": "python3",
      "display_name": "Python 3"
    },
    "language_info": {
      "name": "python"
    }
  },
  "cells": [
    {
      "cell_type": "code",
      "execution_count": 1,
      "metadata": {
        "id": "DVwCxLuO0o1J",
        "outputId": "927c5fab-9a71-4090-9263-4ec42d09b78f",
        "colab": {
          "base_uri": "https://localhost:8080/"
        }
      },
      "outputs": [
        {
          "output_type": "stream",
          "name": "stdout",
          "text": [
            "{'a': ['b'], 'b': ['d'], 'c': ['a', 'd'], 'd': [], 'e': []}\n",
            "{'a': ['b'], 'b': ['d', 'e'], 'c': ['a', 'd'], 'd': [], 'e': []}\n",
            "['b']\n",
            "['d', 'e']\n",
            "['a', 'd']\n",
            "[]\n",
            "[]\n",
            "['b', 'd', 'e', 'a', 'd']\n",
            "('indegree of', 'c', 'is', 0)\n"
          ]
        }
      ],
      "source": [
        "g={\n",
        "'a':['b'],\n",
        "'b':['d'],\n",
        "'c':['a','d'],\n",
        "'d':[]\n",
        "\n",
        "}\n",
        "def add_new_node(g,node):\n",
        "    if node in g:\n",
        "        print(\"exist already\")\n",
        "    else:\n",
        "        g[node]=[]\n",
        "        print(g)  \n",
        "add_new_node(g,'e')  \n",
        "def add_new_edge(g,node1,node2):\n",
        "    if node1 not in g:\n",
        "        print(\"not exist\")\n",
        "    elif node2 not in g:\n",
        "        print(\"not exist\")\n",
        "    else:\n",
        "        g[node1].append(node2)\n",
        "        \n",
        "        print(g)\n",
        "add_new_edge(g,'b','e')  \n",
        "\n",
        "n=[]\n",
        "for i in g.values():\n",
        "    print(i)\n",
        "    n.append(i)\n",
        "out=[]    \n",
        "def indeg(n):\n",
        "    for i in n:\n",
        "        if type(i)==list:\n",
        "            indeg(i)\n",
        "        else:\n",
        "            out.append(i)   \n",
        "                      \n",
        "\n",
        " \n",
        "\n",
        "indeg(n)     \n",
        "print(out)  \n",
        "n='c'\n",
        "\n",
        "def count_indeg(g,n):\n",
        "    count=0\n",
        "    for i in out:\n",
        "        if i=='c':\n",
        "            count+=1\n",
        "    return \"indegree of\",n,\"is\",count    \n",
        "print(count_indeg(g,'c'))         "
      ]
    }
  ]
}