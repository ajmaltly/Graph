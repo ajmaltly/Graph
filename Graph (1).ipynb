{
  "nbformat": 4,
  "nbformat_minor": 0,
  "metadata": {
    "colab": {
      "name": "Graph.ipynb",
      "provenance": []
    },
    "kernelspec": {
      "name": "python3",
      "display_name": "Python 3"
    },
    "language_info": {
      "name": "python"
    }
  },
  "cells": [
    {
      "cell_type": "markdown",
      "source": [
        "# **Program for adding a new node and edge to a graph**"
      ],
      "metadata": {
        "id": "ahfpNKREdn4U"
      }
    },
    {
      "cell_type": "code",
      "source": [
        "graph = {\n",
        "    'a' : ['b','c','d'],\n",
        "    'b' : ['c'],\n",
        "    'c' : ['d','e'],\n",
        "    'd' : ['e'],\n",
        "    'e' : []\n",
        "}\n",
        "\n",
        "def add_new_node(graph,v):\n",
        "  if v in graph:\n",
        "    print(v, \"already present\")\n",
        "  elif v not in graph:\n",
        "    graph[v]=[]\n",
        "    print(graph)\n",
        "\n",
        "def add_new_edge(graph,v1,v2):\n",
        "  if v1 not in graph:\n",
        "    print(v1, \"not exist\")\n",
        "  elif v2 not in graph:\n",
        "    print(v2, \"not exist\")\n",
        "  else:\n",
        "    graph[v1].append(v2)\n",
        "    graph[v2].append(v1)\n",
        "    print(graph)    \n",
        "add_new_node(graph, 'f')\n",
        "add_new_node(graph, 'g')\n",
        "add_new_node(graph, 'h')\n",
        "add_new_edge(graph, 'a','f')\n",
        "add_new_edge(graph, 'f','h')\n",
        "add_new_edge(graph, 'h','e')"
      ],
      "metadata": {
        "colab": {
          "base_uri": "https://localhost:8080/"
        },
        "id": "-bS5CgFYdtSD",
        "outputId": "a4ccac21-cdd9-49b5-d3ec-ad559acb71ef"
      },
      "execution_count": 2,
      "outputs": [
        {
          "output_type": "stream",
          "name": "stdout",
          "text": [
            "{'a': ['b', 'c', 'd'], 'b': ['c'], 'c': ['d', 'e'], 'd': ['e'], 'e': [], 'f': []}\n",
            "{'a': ['b', 'c', 'd'], 'b': ['c'], 'c': ['d', 'e'], 'd': ['e'], 'e': [], 'f': [], 'g': []}\n",
            "{'a': ['b', 'c', 'd'], 'b': ['c'], 'c': ['d', 'e'], 'd': ['e'], 'e': [], 'f': [], 'g': [], 'h': []}\n",
            "{'a': ['b', 'c', 'd', 'f'], 'b': ['c'], 'c': ['d', 'e'], 'd': ['e'], 'e': [], 'f': ['a'], 'g': [], 'h': []}\n",
            "{'a': ['b', 'c', 'd', 'f'], 'b': ['c'], 'c': ['d', 'e'], 'd': ['e'], 'e': [], 'f': ['a', 'h'], 'g': [], 'h': ['f']}\n",
            "{'a': ['b', 'c', 'd', 'f'], 'b': ['c'], 'c': ['d', 'e'], 'd': ['e'], 'e': ['h'], 'f': ['a', 'h'], 'g': [], 'h': ['f', 'e']}\n"
          ]
        }
      ]
    },
    {
      "cell_type": "markdown",
      "source": [
        "# **Program –indegree of a node**"
      ],
      "metadata": {
        "id": "DWQcgfWsgVQh"
      }
    },
    {
      "cell_type": "code",
      "source": [
        "graph = {\n",
        "    'a' : ['b','c','d'],\n",
        "    'b' : ['c'],\n",
        "    'c' : ['d','e'],\n",
        "    'd' : ['e'],\n",
        "    'e' : []\n",
        "}\n",
        "\n",
        "def in_degree(graph, v):\n",
        "  global count\n",
        "  if v in graph:\n",
        "    for i in graph.values():\n",
        "      list1= i\n",
        "      #print(list1)\n",
        "      if v in list1:\n",
        "        count=count+1\n",
        "    print(\"in_degree of the given node\", count)\n",
        "    count=0\n",
        "  elif v not in graph:\n",
        "    print(\"node not present in graph\")\n",
        "  else:\n",
        "    print(\"degree is:\",0)\n",
        "count = 0\n",
        "in_degree(graph,'a')\n",
        "in_degree(graph,'b')\n",
        "in_degree(graph,'c')\n",
        "in_degree(graph,'d')\n"
      ],
      "metadata": {
        "colab": {
          "base_uri": "https://localhost:8080/"
        },
        "id": "1wRqekPHgb3A",
        "outputId": "52d90d2b-a395-44ca-d041-0e44d98c22a2"
      },
      "execution_count": 3,
      "outputs": [
        {
          "output_type": "stream",
          "name": "stdout",
          "text": [
            "in_degree of the given node 0\n",
            "in_degree of the given node 1\n",
            "in_degree of the given node 2\n",
            "in_degree of the given node 2\n"
          ]
        }
      ]
    },
    {
      "cell_type": "markdown",
      "source": [
        "# **Program- delete node**"
      ],
      "metadata": {
        "id": "tSVH4o9fhlYH"
      }
    },
    {
      "cell_type": "code",
      "source": [
        "graph = {\n",
        "    'a' : ['b','c','d'],\n",
        "    'b' : ['c'],\n",
        "    'c' : ['d','e'],\n",
        "    'd' : ['e'],\n",
        "    'e' : []\n",
        "}\n",
        "\n",
        "def delete_node(graph,v):\n",
        "  if v not in graph:\n",
        "    print(v,\"not present\")\n",
        "  elif v in graph:\n",
        "    print(graph)\n",
        "    graph.pop(v)\n",
        "    #print(graph)\n",
        "    for i in graph.values():\n",
        "      #print(i)\n",
        "      if v in i:\n",
        "        #print(i)\n",
        "        i.remove(v)\n",
        "    print(graph)\n",
        "\n",
        "delete_node(graph,'e')\n",
        "#delete_edge(graph,'g','h')"
      ],
      "metadata": {
        "colab": {
          "base_uri": "https://localhost:8080/"
        },
        "id": "kT1V1es0hoaO",
        "outputId": "d03526de-7510-4a7a-809a-c0ffb7d33534"
      },
      "execution_count": 4,
      "outputs": [
        {
          "output_type": "stream",
          "name": "stdout",
          "text": [
            "{'a': ['b', 'c', 'd'], 'b': ['c'], 'c': ['d', 'e'], 'd': ['e'], 'e': []}\n",
            "{'a': ['b', 'c', 'd'], 'b': ['c'], 'c': ['d'], 'd': []}\n"
          ]
        }
      ]
    },
    {
      "cell_type": "markdown",
      "source": [
        "# **Program- delete edge**"
      ],
      "metadata": {
        "id": "v38PnUaPihU-"
      }
    },
    {
      "cell_type": "code",
      "source": [
        "graph = {\n",
        "    'a' : ['b','c','d','e'],\n",
        "    'b' : ['c'],\n",
        "    'c' : ['d','e'],\n",
        "    'd' : ['e'],\n",
        "    'e' : ['a']\n",
        "}\n",
        "\n",
        "def del_edge(graph,v1,v2):\n",
        "  if v1 not in graph:\n",
        "    print(v1,\"not exist\")\n",
        "  elif v2 not in graph:\n",
        "    print(v2, \"not exist\")\n",
        "  else:\n",
        "    if v2 in graph[v1]:\n",
        "      graph[v1].remove(v2)\n",
        "    if v1 in graph[v2]:\n",
        "      graph[v2].remove(v1)\n",
        "    print(graph)\n",
        "\n",
        "print(graph)\n",
        "del_edge(graph,'a','e')"
      ],
      "metadata": {
        "colab": {
          "base_uri": "https://localhost:8080/"
        },
        "id": "9524UJHwilNV",
        "outputId": "21ba1c48-b4de-458f-e2ea-c8c6c7bc9cb8"
      },
      "execution_count": 5,
      "outputs": [
        {
          "output_type": "stream",
          "name": "stdout",
          "text": [
            "{'a': ['b', 'c', 'd', 'e'], 'b': ['c'], 'c': ['d', 'e'], 'd': ['e'], 'e': ['a']}\n",
            "{'a': ['b', 'c', 'd'], 'b': ['c'], 'c': ['d', 'e'], 'd': ['e'], 'e': []}\n"
          ]
        }
      ]
    },
    {
      "cell_type": "markdown",
      "source": [
        "# **Program- dfs algorithm**"
      ],
      "metadata": {
        "id": "lEsFES5XjTCt"
      }
    },
    {
      "cell_type": "code",
      "source": [
        "graph = {\n",
        "    'p' : ['s','q','r'],\n",
        "    's' : [],\n",
        "    'q' : ['r'],\n",
        "    'r' : ['t'],\n",
        "    't' : []\n",
        "}\n",
        "\n",
        "stack = [] # Set to keep track of visited nodes of graph.\n",
        "\n",
        "def dfs(stack, graph, node): #function for dfs\n",
        "  if node not in stack:\n",
        "    print(node)\n",
        "    stack.append(node)\n",
        "    for neighbour in graph[node]:\n",
        "      dfs(stack, graph, neighbour)\n",
        "# Driver Code\n",
        "\n",
        "print(\"Following is the Depth-First Search\")\n",
        "dfs(stack, graph, 'p')"
      ],
      "metadata": {
        "colab": {
          "base_uri": "https://localhost:8080/"
        },
        "id": "OXjr0T1JjXRU",
        "outputId": "8c011c70-cc3e-416c-b000-668c7d9dd43f"
      },
      "execution_count": 7,
      "outputs": [
        {
          "output_type": "stream",
          "name": "stdout",
          "text": [
            "Following is the Depth-First Search\n",
            "p\n",
            "s\n",
            "q\n",
            "r\n",
            "t\n"
          ]
        }
      ]
    },
    {
      "cell_type": "code",
      "source": [
        ""
      ],
      "metadata": {
        "id": "RdccpZCQkLwT"
      },
      "execution_count": null,
      "outputs": []
    }
  ]
}