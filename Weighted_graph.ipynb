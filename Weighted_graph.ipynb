{
  "nbformat": 4,
  "nbformat_minor": 0,
  "metadata": {
    "colab": {
      "name": "Weighted graph.ipynb",
      "provenance": []
    },
    "kernelspec": {
      "name": "python3",
      "display_name": "Python 3"
    },
    "language_info": {
      "name": "python"
    }
  },
  "cells": [
    {
      "cell_type": "code",
      "execution_count": 1,
      "metadata": {
        "colab": {
          "base_uri": "https://localhost:8080/"
        },
        "id": "znQDBp5A5zSJ",
        "outputId": "379e35ce-25d6-4722-ac6c-8c76e9b0c862"
      },
      "outputs": [
        {
          "output_type": "stream",
          "name": "stdout",
          "text": [
            "Node 0 makes an edge with\n",
            "\tNode 1 with edge weight = 10\n",
            "\tNode 4 with edge weight = 20\n",
            "\n",
            "Node 1 makes an edge with\n",
            "\tNode 0 with edge weight = 10\n",
            "\tNode 2 with edge weight = 30\n",
            "\tNode 3 with edge weight = 40\n",
            "\tNode 4 with edge weight = 50\n",
            "\n",
            "Node 2 makes an edge with\n",
            "\tNode 1 with edge weight = 30\n",
            "\tNode 3 with edge weight = 60\n",
            "\n",
            "Node 3 makes an edge with\n",
            "\tNode 1 with edge weight = 40\n",
            "\tNode 2 with edge weight = 60\n",
            "\tNode 4 with edge weight = 70\n",
            "\n",
            "Node 4 makes an edge with\n",
            "\tNode 0 with edge weight = 20\n",
            "\tNode 1 with edge weight = 50\n",
            "\tNode 3 with edge weight = 70\n",
            "\n"
          ]
        }
      ],
      "source": [
        "# Python3 program to represent undirected\n",
        "# and weighted graph. The program basically\n",
        "# prints adjacency list representation of graph\n",
        "\n",
        "# To add an edge\n",
        "def addEdge(adj, u, v, wt):\n",
        "\t\n",
        "\tadj[u].append([v, wt])\n",
        "\tadj[v].append([u, wt])\n",
        "\treturn adj\n",
        "\n",
        "# Print adjacency list representation of graph\n",
        "def printGraph(adj, V):\n",
        "\t\n",
        "\tv, w = 0, 0\n",
        "\tfor u in range(V):\n",
        "\t\tprint(\"Node\", u, \"makes an edge with\")\n",
        "\n",
        "\t\tfor it in adj[u]:\n",
        "\t\t\tv = it[0]\n",
        "\t\t\tw = it[1]\n",
        "\t\t\tprint(\"\\tNode\", v, \"with edge weight =\", w)\n",
        "\t\t\t\n",
        "\t\tprint()\n",
        "\n",
        "# Driver code\n",
        "if __name__ == '__main__':\n",
        "\t\n",
        "\tV = 5\n",
        "\tadj = [[] for i in range(V)]\n",
        "\n",
        "\tadj = addEdge(adj, 0, 1, 10)\n",
        "\tadj = addEdge(adj, 0, 4, 20)\n",
        "\tadj = addEdge(adj, 1, 2, 30)\n",
        "\tadj = addEdge(adj, 1, 3, 40)\n",
        "\tadj = addEdge(adj, 1, 4, 50)\n",
        "\tadj = addEdge(adj, 2, 3, 60)\n",
        "\tadj = addEdge(adj, 3, 4, 70)\n",
        "\n",
        "\tprintGraph(adj, V)\n",
        "\n",
        "# This code is contributed by ajmal thottoly\n"
      ]
    }
  ]
}