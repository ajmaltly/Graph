{
  "nbformat": 4,
  "nbformat_minor": 0,
  "metadata": {
    "colab": {
      "name": "Graph and its representations.ipynb",
      "provenance": []
    },
    "kernelspec": {
      "name": "python3",
      "display_name": "Python 3"
    },
    "language_info": {
      "name": "python"
    }
  },
  "cells": [
    {
      "cell_type": "code",
      "execution_count": 2,
      "metadata": {
        "colab": {
          "base_uri": "https://localhost:8080/"
        },
        "id": "1YKG-eQ95X8w",
        "outputId": "28fb7dab-3c98-4720-e7bd-7183ca6e79ab"
      },
      "outputs": [
        {
          "output_type": "stream",
          "name": "stdout",
          "text": [
            "Adjacency list of vertex 0\n",
            " head -> 4 -> 1 \n",
            "\n",
            "Adjacency list of vertex 1\n",
            " head -> 4 -> 3 -> 2 -> 0 \n",
            "\n",
            "Adjacency list of vertex 2\n",
            " head -> 3 -> 1 \n",
            "\n",
            "Adjacency list of vertex 3\n",
            " head -> 4 -> 2 -> 1 \n",
            "\n",
            "Adjacency list of vertex 4\n",
            " head -> 3 -> 1 -> 0 \n",
            "\n"
          ]
        }
      ],
      "source": [
        "\"\"\"\n",
        "A Python program to demonstrate the adjacency\n",
        "list representation of the graph\n",
        "\"\"\"\n",
        "\n",
        "# A class to represent the adjacency list of the node\n",
        "\n",
        "\n",
        "class AdjNode:\n",
        "\tdef __init__(self, data):\n",
        "\t\tself.vertex = data\n",
        "\t\tself.next = None\n",
        "\n",
        "\n",
        "# A class to represent a graph. A graph\n",
        "# is the list of the adjacency lists.\n",
        "# Size of the array will be the no. of the\n",
        "# vertices \"V\"\n",
        "class Graph:\n",
        "\tdef __init__(self, vertices):\n",
        "\t\tself.V = vertices\n",
        "\t\tself.graph = [None] * self.V\n",
        "\n",
        "\t# Function to add an edge in an undirected graph\n",
        "\tdef add_edge(self, src, dest):\n",
        "\t\t# Adding the node to the source node\n",
        "\t\tnode = AdjNode(dest)\n",
        "\t\tnode.next = self.graph[src]\n",
        "\t\tself.graph[src] = node\n",
        "\n",
        "\t\t# Adding the source node to the destination as\n",
        "\t\t# it is the undirected graph\n",
        "\t\tnode = AdjNode(src)\n",
        "\t\tnode.next = self.graph[dest]\n",
        "\t\tself.graph[dest] = node\n",
        "\n",
        "\t# Function to print the graph\n",
        "\tdef print_graph(self):\n",
        "\t\tfor i in range(self.V):\n",
        "\t\t\tprint(\"Adjacency list of vertex {}\\n head\".format(i), end=\"\")\n",
        "\t\t\ttemp = self.graph[i]\n",
        "\t\t\twhile temp:\n",
        "\t\t\t\tprint(\" -> {}\".format(temp.vertex), end=\"\")\n",
        "\t\t\t\ttemp = temp.next\n",
        "\t\t\tprint(\" \\n\")\n",
        "\n",
        "\n",
        "# Driver program to the above graph class\n",
        "if __name__ == \"__main__\":\n",
        "\tV = 5\n",
        "\tgraph = Graph(V)\n",
        "\tgraph.add_edge(0, 1)\n",
        "\tgraph.add_edge(0, 4)\n",
        "\tgraph.add_edge(1, 2)\n",
        "\tgraph.add_edge(1, 3)\n",
        "\tgraph.add_edge(1, 4)\n",
        "\tgraph.add_edge(2, 3)\n",
        "\tgraph.add_edge(3, 4)\n",
        "\n",
        "\tgraph.print_graph()\n",
        "\n",
        "# This code is contributed by Ajmal Thottoly\n"
      ]
    }
  ]
}