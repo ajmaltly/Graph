{
  "nbformat": 4,
  "nbformat_minor": 0,
  "metadata": {
    "colab": {
      "name": "Generate a graph using Dictionary in Python.ipynb",
      "provenance": []
    },
    "kernelspec": {
      "name": "python3",
      "display_name": "Python 3"
    },
    "language_info": {
      "name": "python"
    }
  },
  "cells": [
    {
      "cell_type": "code",
      "execution_count": 4,
      "metadata": {
        "colab": {
          "base_uri": "https://localhost:8080/"
        },
        "id": "1XVURB9V3omD",
        "outputId": "47284514-a9f3-43e5-ec4d-a745fc6c6dee"
      },
      "outputs": [
        {
          "output_type": "stream",
          "name": "stdout",
          "text": [
            "[('a', 'c'), ('b', 'c'), ('b', 'e'), ('c', 'd'), ('c', 'e'), ('c', 'a'), ('c', 'b'), ('e', 'b'), ('e', 'c'), ('d', 'c')]\n"
          ]
        }
      ],
      "source": [
        "# Python program for validation of a graph\n",
        "\n",
        "# import dictionary for graph\n",
        "from collections import defaultdict\n",
        "\n",
        "# function for adding edge to graph\n",
        "graph = defaultdict(list)\n",
        "def addEdge(graph,u,v):\n",
        "\tgraph[u].append(v)\n",
        "\n",
        "# definition of function\n",
        "def generate_edges(graph):\n",
        "\tedges = []\n",
        "\n",
        "\t# for each node in graph\n",
        "\tfor node in graph:\n",
        "\t\t\n",
        "\t\t# for each neighbour node of a single node\n",
        "\t\tfor neighbour in graph[node]:\n",
        "\t\t\t\n",
        "\t\t\t# if edge exists then append\n",
        "\t\t\tedges.append((node, neighbour))\n",
        "\treturn edges\n",
        "\n",
        "# declaration of graph as dictionary\n",
        "addEdge(graph,'a','c')\n",
        "addEdge(graph,'b','c')\n",
        "addEdge(graph,'b','e')\n",
        "addEdge(graph,'c','d')\n",
        "addEdge(graph,'c','e')\n",
        "addEdge(graph,'c','a')\n",
        "addEdge(graph,'c','b')\n",
        "addEdge(graph,'e','b')\n",
        "addEdge(graph,'d','c')\n",
        "addEdge(graph,'e','c')\n",
        "\n",
        "# Driver Function call\n",
        "# to print generated graph\n",
        "print(generate_edges(graph))\n"
      ]
    },
    {
      "cell_type": "code",
      "source": [
        "# Python program to generate the first\n",
        "# path of the graph from the nodes provided\n",
        "\n",
        "graph = {\n",
        "\t'a': ['c'],\n",
        "\t'b': ['d'],\n",
        "\t'c': ['e'],\n",
        "\t'd': ['a', 'd'],\n",
        "\t'e': ['b', 'c']\n",
        "}\n",
        "\n",
        "# function to find path\n",
        "\n",
        "\n",
        "def find_path(graph, start, end, path=[]):\n",
        "\tpath = path + [start]\n",
        "\tif start == end:\n",
        "\t\treturn path\n",
        "\tfor node in graph[start]:\n",
        "\t\tif node not in path:\n",
        "\t\t\tnewpath = find_path(graph, node, end, path)\n",
        "\t\t\tif newpath:\n",
        "\t\t\t\treturn newpath\n",
        "\n",
        "\n",
        "# Driver function call to print the path\n",
        "print(find_path(graph, 'd', 'c'))\n"
      ],
      "metadata": {
        "colab": {
          "base_uri": "https://localhost:8080/"
        },
        "id": "o-hxoico4Wl1",
        "outputId": "efad4eea-f337-481f-fa69-aa7814f8664a"
      },
      "execution_count": 2,
      "outputs": [
        {
          "output_type": "stream",
          "name": "stdout",
          "text": [
            "['d', 'a', 'c']\n"
          ]
        }
      ]
    },
    {
      "cell_type": "code",
      "source": [
        "# Python program to generate the all possible\n",
        "# path of the graph from the nodes provided\n",
        "graph ={\n",
        "'a':['c'],\n",
        "'b':['d'],\n",
        "'c':['e'],\n",
        "'d':['a', 'd'],\n",
        "'e':['b', 'c']\n",
        "}\n",
        " \n",
        "# function to generate all possible paths\n",
        "def find_all_paths(graph, start, end, path =[]):\n",
        "  path = path + [start]\n",
        "  if start == end:\n",
        "    return [path]\n",
        "  paths = []\n",
        "  for node in graph[start]:\n",
        "    if node not in path:\n",
        "      newpaths = find_all_paths(graph, node, end, path)\n",
        "    for newpath in newpaths:\n",
        "      paths.append(newpath)\n",
        "  return paths\n",
        "   \n",
        "# Driver function call to print all\n",
        "# generated paths\n",
        "print(find_all_paths(graph, 'd', 'c'))\n"
      ],
      "metadata": {
        "colab": {
          "base_uri": "https://localhost:8080/"
        },
        "id": "bgWD0DIX434a",
        "outputId": "04fc44aa-f540-4906-d51f-93eb0f6399e5"
      },
      "execution_count": 7,
      "outputs": [
        {
          "output_type": "stream",
          "name": "stdout",
          "text": [
            "[['d', 'a', 'c'], ['d', 'a', 'c']]\n"
          ]
        }
      ]
    },
    {
      "cell_type": "code",
      "source": [
        "# Python program to generate shortest path\n",
        "\n",
        "graph ={\n",
        "'a':['c'],\n",
        "'b':['d'],\n",
        "'c':['e'],\n",
        "'d':['a', 'd'],\n",
        "'e':['b', 'c']\n",
        "}\n",
        "\n",
        "# function to find the shortest path\n",
        "def find_shortest_path(graph, start, end, path =[]):\n",
        "\t\tpath = path + [start]\n",
        "\t\tif start == end:\n",
        "\t\t\treturn path\n",
        "\t\tshortest = None\n",
        "\t\tfor node in graph[start]:\n",
        "\t\t\tif node not in path:\n",
        "\t\t\t\tnewpath = find_shortest_path(graph, node, end, path)\n",
        "\t\t\t\tif newpath:\n",
        "\t\t\t\t\tif not shortest or len(newpath) < len(shortest):\n",
        "\t\t\t\t\t\tshortest = newpath\n",
        "\t\treturn shortest\n",
        "\t\t\n",
        "# Driver function call to print\n",
        "# the shortest path\n",
        "print(find_shortest_path(graph, 'd', 'c'))\n"
      ],
      "metadata": {
        "colab": {
          "base_uri": "https://localhost:8080/"
        },
        "id": "IuykDUc349OL",
        "outputId": "ce7c9dd2-e03c-4927-b327-c0dd8fe8f3bc"
      },
      "execution_count": 6,
      "outputs": [
        {
          "output_type": "stream",
          "name": "stdout",
          "text": [
            "['d', 'a', 'c']\n"
          ]
        }
      ]
    }
  ]
}