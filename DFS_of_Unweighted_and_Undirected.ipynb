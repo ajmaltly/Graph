{
  "nbformat": 4,
  "nbformat_minor": 0,
  "metadata": {
    "colab": {
      "name": "DFS of Unweighted and Undirected.ipynb",
      "provenance": []
    },
    "kernelspec": {
      "name": "python3",
      "display_name": "Python 3"
    },
    "language_info": {
      "name": "python"
    }
  },
  "cells": [
    {
      "cell_type": "code",
      "execution_count": 1,
      "metadata": {
        "colab": {
          "base_uri": "https://localhost:8080/"
        },
        "id": "uXM93goJ6S9F",
        "outputId": "3e66ff22-37e8-431b-f0b8-e79998cc6b96"
      },
      "outputs": [
        {
          "output_type": "stream",
          "name": "stdout",
          "text": [
            "0 1 2 3 4 "
          ]
        }
      ],
      "source": [
        "# A simple representation of graph using STL,\n",
        "# for the purpose of competitive programming\n",
        "\n",
        "# A utility function to add an edge in an\n",
        "# undirected graph.\n",
        "def addEdge(adj, u, v):\n",
        "\tadj[u].append(v)\n",
        "\tadj[v].append(u)\n",
        "\treturn adj\n",
        "\n",
        "# A utility function to do DFS of graph\n",
        "# recursively from a given vertex u.\n",
        "def DFSUtil(u, adj, visited):\n",
        "\tvisited[u] = True\n",
        "\tprint(u, end = \" \")\n",
        "\tfor i in range(len(adj[u])):\n",
        "\t\tif (visited[adj[u][i]] == False):\n",
        "\t\t\tDFSUtil(adj[u][i], adj, visited)\n",
        "\n",
        "# This function does DFSUtil() for all\n",
        "# unvisited vertices.\n",
        "def DFS(adj, V):\n",
        "\tvisited = [False]*(V+1)\n",
        "\n",
        "\tfor u in range(V):\n",
        "\t\tif (visited[u] == False):\n",
        "\t\t\tDFSUtil(u, adj, visited)\n",
        "\n",
        "# Driver code\n",
        "if __name__ == '__main__':\n",
        "\tV = 5\n",
        "\n",
        "\t# The below line may not work on all\n",
        "\t# compilers. If it does not work on\n",
        "\t# your compiler, please replace it with\n",
        "\t# following\n",
        "\t# vector<int> *adj = new vector<int>[V]\n",
        "\tadj = [[] for i in range(V)]\n",
        "\n",
        "\t# Vertex numbers should be from 0 to 4.\n",
        "\tadj = addEdge(adj, 0, 1)\n",
        "\tadj = addEdge(adj, 0, 4)\n",
        "\tadj = addEdge(adj, 1, 2)\n",
        "\tadj = addEdge(adj, 1, 3)\n",
        "\tadj = addEdge(adj, 1, 4)\n",
        "\tadj = addEdge(adj, 2, 3)\n",
        "\tadj = addEdge(adj, 3, 4)\n",
        "\tDFS(adj, V)\n",
        "\n",
        "# This code is contributed by ajmal thottoly.\n"
      ]
    }
  ]
}