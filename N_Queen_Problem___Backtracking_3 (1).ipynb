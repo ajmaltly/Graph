{
  "nbformat": 4,
  "nbformat_minor": 0,
  "metadata": {
    "colab": {
      "name": "N Queen Problem | Backtracking-3.ipynb",
      "provenance": []
    },
    "kernelspec": {
      "name": "python3",
      "display_name": "Python 3"
    },
    "language_info": {
      "name": "python"
    }
  },
  "cells": [
    {
      "cell_type": "code",
      "execution_count": 1,
      "metadata": {
        "id": "IDSV3GLH6opc",
        "colab": {
          "base_uri": "https://localhost:8080/"
        },
        "outputId": "3ef5d0c3-b00c-4697-9dd1-3be01be4a00a"
      },
      "outputs": [
        {
          "output_type": "stream",
          "name": "stdout",
          "text": [
            "0 0 1 0 \n",
            "1 0 0 0 \n",
            "0 0 0 1 \n",
            "0 1 0 0 \n"
          ]
        },
        {
          "output_type": "execute_result",
          "data": {
            "text/plain": [
              "True"
            ]
          },
          "metadata": {},
          "execution_count": 1
        }
      ],
      "source": [
        "# Python3 program to solve N Queen\n",
        "# Problem using backtracking\n",
        "global N\n",
        "N = 4\n",
        "\n",
        "def printSolution(board):\n",
        "\tfor i in range(N):\n",
        "\t\tfor j in range(N):\n",
        "\t\t\tprint (board[i][j], end = \" \")\n",
        "\t\tprint()\n",
        "\n",
        "# A utility function to check if a queen can\n",
        "# be placed on board[row][col]. Note that this\n",
        "# function is called when \"col\" queens are\n",
        "# already placed in columns from 0 to col -1.\n",
        "# So we need to check only left side for\n",
        "# attacking queens\n",
        "def isSafe(board, row, col):\n",
        "\n",
        "\t# Check this row on left side\n",
        "\tfor i in range(col):\n",
        "\t\tif board[row][i] == 1:\n",
        "\t\t\treturn False\n",
        "\n",
        "\t# Check upper diagonal on left side\n",
        "\tfor i, j in zip(range(row, -1, -1),\n",
        "\t\t\t\t\trange(col, -1, -1)):\n",
        "\t\tif board[i][j] == 1:\n",
        "\t\t\treturn False\n",
        "\n",
        "\t# Check lower diagonal on left side\n",
        "\tfor i, j in zip(range(row, N, 1),\n",
        "\t\t\t\t\trange(col, -1, -1)):\n",
        "\t\tif board[i][j] == 1:\n",
        "\t\t\treturn False\n",
        "\n",
        "\treturn True\n",
        "\n",
        "def solveNQUtil(board, col):\n",
        "\t\n",
        "\t# base case: If all queens are placed\n",
        "\t# then return true\n",
        "\tif col >= N:\n",
        "\t\treturn True\n",
        "\n",
        "\t# Consider this column and try placing\n",
        "\t# this queen in all rows one by one\n",
        "\tfor i in range(N):\n",
        "\n",
        "\t\tif isSafe(board, i, col):\n",
        "\t\t\t\n",
        "\t\t\t# Place this queen in board[i][col]\n",
        "\t\t\tboard[i][col] = 1\n",
        "\n",
        "\t\t\t# recur to place rest of the queens\n",
        "\t\t\tif solveNQUtil(board, col + 1) == True:\n",
        "\t\t\t\treturn True\n",
        "\n",
        "\t\t\t# If placing queen in board[i][col\n",
        "\t\t\t# doesn't lead to a solution, then\n",
        "\t\t\t# queen from board[i][col]\n",
        "\t\t\tboard[i][col] = 0\n",
        "\n",
        "\t# if the queen can not be placed in any row in\n",
        "\t# this column col then return false\n",
        "\treturn False\n",
        "\n",
        "# This function solves the N Queen problem using\n",
        "# Backtracking. It mainly uses solveNQUtil() to\n",
        "# solve the problem. It returns false if queens\n",
        "# cannot be placed, otherwise return true and\n",
        "# placement of queens in the form of 1s.\n",
        "# note that there may be more than one\n",
        "# solutions, this function prints one of the\n",
        "# feasible solutions.\n",
        "def solveNQ():\n",
        "\tboard = [ [0, 0, 0, 0],\n",
        "\t\t\t[0, 0, 0, 0],\n",
        "\t\t\t[0, 0, 0, 0],\n",
        "\t\t\t[0, 0, 0, 0] ]\n",
        "\n",
        "\tif solveNQUtil(board, 0) == False:\n",
        "\t\tprint (\"Solution does not exist\")\n",
        "\t\treturn False\n",
        "\n",
        "\tprintSolution(board)\n",
        "\treturn True\n",
        "\n",
        "# Driver Code\n",
        "solveNQ()\n",
        "\n",
        "# This code is contributed by ajmal thottoly\n"
      ]
    },
    {
      "cell_type": "code",
      "source": [
        "\"\"\" Python3 program to solve N Queen Problem using\n",
        "backtracking \"\"\"\n",
        "N = 4\n",
        "\n",
        "\"\"\" ld is an array where its indices indicate row-col+N-1\n",
        "(N-1) is for shifting the difference to store negative\n",
        "indices \"\"\"\n",
        "ld = [0] * 30\n",
        "\n",
        "\"\"\" rd is an array where its indices indicate row+col\n",
        "and used to check whether a queen can be placed on\n",
        "right diagonal or not\"\"\"\n",
        "rd = [0] * 30\n",
        "\n",
        "\"\"\"column array where its indices indicates column and\n",
        "used to check whether a queen can be placed in that\n",
        "\trow or not\"\"\"\n",
        "cl = [0] * 30\n",
        "\n",
        "\"\"\" A utility function to print solution \"\"\"\n",
        "def printSolution(board):\n",
        "\tfor i in range(N):\n",
        "\t\tfor j in range(N):\n",
        "\t\t\tprint(board[i][j], end = \" \")\n",
        "\t\tprint()\n",
        "\n",
        "\"\"\" A recursive utility function to solve N\n",
        "Queen problem \"\"\"\n",
        "def solveNQUtil(board, col):\n",
        "\t\n",
        "\t\"\"\" base case: If all queens are placed\n",
        "\t\tthen return True \"\"\"\n",
        "\tif (col >= N):\n",
        "\t\treturn True\n",
        "\t\t\n",
        "\t\"\"\" Consider this column and try placing\n",
        "\t\tthis queen in all rows one by one \"\"\"\n",
        "\tfor i in range(N):\n",
        "\t\t\n",
        "\t\t\"\"\" Check if the queen can be placed on board[i][col] \"\"\"\n",
        "\t\t\"\"\" A check if a queen can be placed on board[row][col].\n",
        "\t\tWe just need to check ld[row-col+n-1] and rd[row+coln]\n",
        "\t\twhere ld and rd are for left and right diagonal respectively\"\"\"\n",
        "\t\tif ((ld[i - col + N - 1] != 1 and\n",
        "\t\t\trd[i + col] != 1) and cl[i] != 1):\n",
        "\t\t\t\t\n",
        "\t\t\t\"\"\" Place this queen in board[i][col] \"\"\"\n",
        "\t\t\tboard[i][col] = 1\n",
        "\t\t\tld[i - col + N - 1] = rd[i + col] = cl[i] = 1\n",
        "\t\t\t\n",
        "\t\t\t\"\"\" recur to place rest of the queens \"\"\"\n",
        "\t\t\tif (solveNQUtil(board, col + 1)):\n",
        "\t\t\t\treturn True\n",
        "\t\t\t\t\n",
        "\t\t\t\"\"\" If placing queen in board[i][col]\n",
        "\t\t\tdoesn't lead to a solution,\n",
        "\t\t\tthen remove queen from board[i][col] \"\"\"\n",
        "\t\t\tboard[i][col] = 0 # BACKTRACK\n",
        "\t\t\tld[i - col + N - 1] = rd[i + col] = cl[i] = 0\n",
        "\t\t\t\n",
        "\t\t\t\"\"\" If the queen cannot be placed in\n",
        "\t\t\tany row in this column col then return False \"\"\"\n",
        "\treturn False\n",
        "\t\n",
        "\"\"\" This function solves the N Queen problem using\n",
        "Backtracking. It mainly uses solveNQUtil() to\n",
        "solve the problem. It returns False if queens\n",
        "cannot be placed, otherwise, return True and\n",
        "prints placement of queens in the form of 1s.\n",
        "Please note that there may be more than one\n",
        "solutions, this function prints one of the\n",
        "feasible solutions.\"\"\"\n",
        "def solveNQ():\n",
        "\tboard = [[0, 0, 0, 0],\n",
        "\t\t\t[0, 0, 0, 0],\n",
        "\t\t\t[0, 0, 0, 0],\n",
        "\t\t\t[0, 0, 0, 0]]\n",
        "\tif (solveNQUtil(board, 0) == False):\n",
        "\t\tprintf(\"Solution does not exist\")\n",
        "\t\treturn False\n",
        "\tprintSolution(board)\n",
        "\treturn True\n",
        "\t\n",
        "# Driver Code\n",
        "solveNQ()\n",
        "\n",
        "# This code is contributed by ajmal thottoly\n"
      ],
      "metadata": {
        "colab": {
          "base_uri": "https://localhost:8080/"
        },
        "id": "LYNmysQy7QBw",
        "outputId": "0e2cf9bb-acd9-4a9b-f631-fbbc8f01ebbf"
      },
      "execution_count": 2,
      "outputs": [
        {
          "output_type": "stream",
          "name": "stdout",
          "text": [
            "0 0 1 0 \n",
            "1 0 0 0 \n",
            "0 0 0 1 \n",
            "0 1 0 0 \n"
          ]
        },
        {
          "output_type": "execute_result",
          "data": {
            "text/plain": [
              "True"
            ]
          },
          "metadata": {},
          "execution_count": 2
        }
      ]
    }
  ]
}